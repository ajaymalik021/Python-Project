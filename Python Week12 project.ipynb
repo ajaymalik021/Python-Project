{
 "cells": [
  {
   "cell_type": "code",
   "execution_count": 1,
   "id": "95201993-1587-42bf-ae3b-7790d780cb5f",
   "metadata": {},
   "outputs": [
    {
     "name": "stdout",
     "output_type": "stream",
     "text": [
      "--------------- Welcome To MalikMart ---------------\n"
     ]
    },
    {
     "name": "stdin",
     "output_type": "stream",
     "text": [
      "enter your name:  ajay\n",
      "enter phone number:  9998887776\n"
     ]
    },
    {
     "name": "stdout",
     "output_type": "stream",
     "text": [
      "------- Products List -------\n",
      "Apples - 100\n",
      "Chips - 20\n",
      "Avocado - 105\n",
      "Cola - 40\n",
      "Bananas - 60\n",
      "Rice - 50\n",
      "Milk - 45\n",
      "Bread - 30\n",
      "Butter - 90\n",
      "Eggs - 10\n",
      "Chicken - 150\n",
      "Sugar - 45\n",
      "Flour - 40\n",
      "Tomatoes - 25\n",
      "Onions - 20\n"
     ]
    },
    {
     "name": "stdin",
     "output_type": "stream",
     "text": [
      "enter product name you wish to buy:  apple\n"
     ]
    },
    {
     "name": "stdout",
     "output_type": "stream",
     "text": [
      "Invalid product name. Please choose from the list.\n"
     ]
    },
    {
     "name": "stdin",
     "output_type": "stream",
     "text": [
      "enter product name you wish to buy:  apples\n",
      "enter quantity you wish to buy:  2\n",
      "do you want to add more items? (Yes/No):  yes\n",
      "enter product name you wish to buy:  avocado\n",
      "enter quantity you wish to buy:  2\n",
      "do you want to add more items? (Yes/No):  cola\n",
      "enter product name you wish to buy:  cola\n",
      "enter quantity you wish to buy:  2\n",
      "do you want to add more items? (Yes/No):  yes\n",
      "enter product name you wish to buy:  eggs\n",
      "enter quantity you wish to buy:  24\n",
      "do you want to add more items? (Yes/No):  yes\n",
      "enter product name you wish to buy:  flour\n",
      "enter quantity you wish to buy:  0\n"
     ]
    },
    {
     "name": "stdout",
     "output_type": "stream",
     "text": [
      "Quantity must be greater than 0.\n"
     ]
    },
    {
     "name": "stdin",
     "output_type": "stream",
     "text": [
      "enter product name you wish to buy:  flour\n",
      "enter quantity you wish to buy:  2\n",
      "do you want to add more items? (Yes/No):  yes\n",
      "enter product name you wish to buy:  bananas\n",
      "enter quantity you wish to buy:  2\n",
      "do you want to add more items? (Yes/No):  no\n"
     ]
    },
    {
     "name": "stdout",
     "output_type": "stream",
     "text": [
      "----------------------------------------\n",
      "Name:  ajay\n",
      "Phone:  9998887776\n",
      "Itemized Bill:\n",
      "Apples price:  100 X 2.0 =  200.0\n",
      "Avocado price:  105 X 2.0 =  210.0\n",
      "Cola price:  40 X 2.0 =  80.0\n",
      "Eggs price:  10 X 24.0 =  240.0\n",
      "Flour price:  40 X 2.0 =  80.0\n",
      "Bananas price:  60 X 2.0 =  120.0\n",
      "----------------------------------------\n",
      "Total Amount:  930.0\n",
      "Discount Apllied:  5.0 %\n",
      "----------------------------------------\n",
      "Payable Amount 883.5\n",
      "----------------------------------------\n"
     ]
    },
    {
     "name": "stdin",
     "output_type": "stream",
     "text": [
      "Next customer? (Yes/No):  no\n"
     ]
    },
    {
     "name": "stdout",
     "output_type": "stream",
     "text": [
      "Thank you for visiting MalikMart!\n"
     ]
    }
   ],
   "source": [
    "Products = {\n",
    "    \"Apples\": 100,\n",
    "    \"Chips\": 20,\n",
    "    \"Avocado\": 105,\n",
    "    \"Cola\": 40,\n",
    "    \"Bananas\": 60,\n",
    "    \"Rice\": 50,\n",
    "    \"Milk\": 45,\n",
    "    \"Bread\": 30,\n",
    "    \"Butter\": 90,\n",
    "    \"Eggs\": 10,\n",
    "    \"Chicken\": 150,\n",
    "    \"Sugar\": 45,\n",
    "    \"Flour\": 40,\n",
    "    \"Tomatoes\": 25,\n",
    "    \"Onions\": 20\n",
    "}\n",
    "\n",
    "print(\"-\"*15, \"Welcome To MalikMart\", \"-\"*15)\n",
    "while True:\n",
    "    cart = {}\n",
    "    amount = 0\n",
    "    name = input('enter your name: ').strip()\n",
    "    ph_no = input('enter phone number: ').strip()\n",
    "    discount = 0\n",
    "\n",
    "    while not ph_no.isdigit():\n",
    "        ph_no = input(\"Invalid phone number! Please enter digits only: \").strip()\n",
    "    \n",
    "    print('-'*7, \"Products List\", \"-\"*7)\n",
    "    for i, j in Products.items(): \n",
    "        print(i, \"-\", j)\n",
    "    \n",
    "    while True:\n",
    "        p_name = input(\"enter product name you wish to buy: \").capitalize()\n",
    "    \n",
    "        if p_name not in Products:\n",
    "            print(\"Invalid product name. Please choose from the list.\")\n",
    "            continue\n",
    "        \n",
    "        try:\n",
    "            quantity = float(input(\"enter quantity you wish to buy: \"))\n",
    "            if quantity <= 0:\n",
    "                print(\"Quantity must be greater than 0.\")\n",
    "                continue\n",
    "        except ValueError:\n",
    "            print(\"Invalid quantity! Please enter a numeric value.\")\n",
    "            continue\n",
    "            \n",
    "        val = []\n",
    "        val.append(Products[p_name])\n",
    "        val.append(quantity)\n",
    "        val.append(quantity * Products[p_name])\n",
    "        cart[p_name] = val\n",
    "        amount += Products[p_name] * quantity\n",
    "        repeat = input(\"do you want to add more items? (Yes/No): \").capitalize()\n",
    "        if repeat == \"No\": \n",
    "            break\n",
    "\n",
    "# Apply discounts based on total amount\n",
    "    if amount <= 500: \n",
    "        discount = 0\n",
    "    elif amount <= 1000: \n",
    "        discount = 0.05\n",
    "    elif amount <= 2000: \n",
    "        discount = .10\n",
    "    else: \n",
    "        discount = 0.15\n",
    "    \n",
    "    act_amount = amount - (amount*discount)\n",
    "\n",
    "# Generate Receipt\n",
    "    print(\"-\"*40)\n",
    "    print(\"Name: \", name)\n",
    "    print(\"Phone: \", ph_no)\n",
    "    print(\"Itemized Bill:\")\n",
    "    for i , j in cart.items(): \n",
    "        print(i, \"price: \",j[0], \"X\",j[1], \"= \", j[2])\n",
    "    print(\"-\"*40)\n",
    "    print(\"Total Amount: \", amount)\n",
    "    print(\"Discount Apllied: \", discount*100, \"%\")\n",
    "    print(\"-\"*40)\n",
    "    print(\"Payable Amount\", act_amount)\n",
    "    print(\"-\"*40)\n",
    "    \n",
    "# Check for next customer\n",
    "    n_person = input(\"Next customer? (Yes/No): \").capitalize()\n",
    "    if n_person == \"No\":\n",
    "        print(\"Thank you for visiting MalikMart!\")\n",
    "        break"
   ]
  },
  {
   "cell_type": "code",
   "execution_count": null,
   "id": "f69c074e-741b-4dd7-bcef-c9b2736ba14c",
   "metadata": {},
   "outputs": [],
   "source": []
  }
 ],
 "metadata": {
  "kernelspec": {
   "display_name": "Python 3 (ipykernel)",
   "language": "python",
   "name": "python3"
  },
  "language_info": {
   "codemirror_mode": {
    "name": "ipython",
    "version": 3
   },
   "file_extension": ".py",
   "mimetype": "text/x-python",
   "name": "python",
   "nbconvert_exporter": "python",
   "pygments_lexer": "ipython3",
   "version": "3.13.1"
  }
 },
 "nbformat": 4,
 "nbformat_minor": 5
}
